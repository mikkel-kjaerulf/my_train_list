{
 "cells": [
  {
   "cell_type": "code",
   "execution_count": 43,
   "metadata": {},
   "outputs": [],
   "source": [
    "from flask import Flask, render_template, request\n",
    "import psycopg2\n",
    "\n",
    "app = Flask(__name__)\n",
    "\n",
    "# Configure the database connection\n",
    "def get_db_connection():\n",
    "    connection = psycopg2.connect(\n",
    "        port=5432,\n",
    "        host=\"localhost\",\n",
    "        database=\"postgres\",\n",
    "        user=\"postgres\",\n",
    "        password=\"2903\"\n",
    "    )\n",
    "    return connection"
   ]
  },
  {
   "cell_type": "code",
   "execution_count": 42,
   "metadata": {
    "dotnet_interactive": {
     "language": "csharp"
    },
    "polyglot_notebook": {
     "kernelName": "csharp"
    }
   },
   "outputs": [
    {
     "name": "stdout",
     "output_type": "stream",
     "text": [
      " * Serving Flask app '__main__'\n",
      " * Debug mode: off\n"
     ]
    },
    {
     "name": "stderr",
     "output_type": "stream",
     "text": [
      "\u001b[31m\u001b[1mWARNING: This is a development server. Do not use it in a production deployment. Use a production WSGI server instead.\u001b[0m\n",
      " * Running on http://127.0.0.1:5000\n",
      "\u001b[33mPress CTRL+C to quit\u001b[0m\n",
      "127.0.0.1 - - [20/May/2023 13:46:59] \"GET / HTTP/1.1\" 200 -\n",
      "127.0.0.1 - - [20/May/2023 13:47:04] \"GET /signup HTTP/1.1\" 200 -\n",
      "127.0.0.1 - - [20/May/2023 13:47:10] \"POST /signup HTTP/1.1\" 200 -\n"
     ]
    }
   ],
   "source": [
    "\n",
    "    \n",
    "# Example route to fetch data from the database\n",
    "@app.route('/')\n",
    "def index():\n",
    "    connection = get_db_connection()\n",
    "    cursor = connection.cursor()\n",
    "    \n",
    "    # Execute a query\n",
    "    cursor.execute('SELECT * FROM trains')\n",
    "    \n",
    "    # Fetch the results\n",
    "    results = cursor.fetchall()\n",
    "    \n",
    "    # Close the cursor and connection\n",
    "    cursor.close()\n",
    "    connection.close()\n",
    "    \n",
    "    # Process the results and return the response\n",
    "    response = ''\n",
    "    for row in results:\n",
    "        response += f'Train ID: {row[0]}, Train Name: {row[1]}<br>'\n",
    "    \n",
    "    return response\n",
    "\n",
    "@app.route('/table')\n",
    "def render_table():\n",
    "    # Establish a connection to the PostgreSQL database\n",
    "    conn = get_db_connection()\n",
    "    cursor = conn.cursor()\n",
    "\n",
    "    # Execute a query to retrieve data from the table\n",
    "    cursor.execute('SELECT * FROM trains')\n",
    "\n",
    "    # Fetch all rows from the result set\n",
    "    rows = cursor.fetchall()\n",
    "\n",
    "    # Close the cursor and connection\n",
    "    cursor.close()\n",
    "    conn.close()\n",
    "\n",
    "    # Render the HTML template with the table data\n",
    "    return render_template('table.html', rows=rows)\n",
    "\n",
    "@app.route('/signup', methods=[\"GET\", \"POST\"])\n",
    "def signup():\n",
    "    if request.method == \"POST\":\n",
    "        # Establish a connection to the PostgreSQL database\n",
    "        conn = get_db_connection()\n",
    "        cursor = conn.cursor()\n",
    "\n",
    "        # Get max uid and add 1 to get new id for user\n",
    "        cursor.execute(\"SELECT MAX(id) FROM users;\")\n",
    "        uid = cursor.fetchall()[0][0] + 1\n",
    "        # Get other input \n",
    "        name = request.form.get(\"fname\")\n",
    "        mail = request.form.get(\"femail\")\n",
    "        password = request.form.get(\"fpassword\")\n",
    "        query = \"INSERT INTO users (id, name, mail, password) VALUES (%s, %s, %s, %s);\"\n",
    "        cursor.execute(query, (uid, name, mail, password))\n",
    "        conn.commit()\n",
    "        cursor.close()\n",
    "        conn.close()\n",
    "    return render_template('signup.html')\n",
    "\n",
    "\n",
    "if __name__ == '__main__':\n",
    "    app.run()\n"
   ]
  },
  {
   "cell_type": "code",
   "execution_count": 58,
   "metadata": {},
   "outputs": [
    {
     "ename": "UndefinedColumn",
     "evalue": "column \"hello\" does not exist\nLINE 1: ...ELECT * FROM trains WHERE trains.\"('Name', 'Name')\" = HELLO;\n                                                                 ^\n",
     "output_type": "error",
     "traceback": [
      "\u001b[0;31m---------------------------------------------------------------------------\u001b[0m",
      "\u001b[0;31mUndefinedColumn\u001b[0m                           Traceback (most recent call last)",
      "Cell \u001b[0;32mIn[58], line 4\u001b[0m\n\u001b[1;32m      2\u001b[0m conn \u001b[39m=\u001b[39m get_db_connection()\n\u001b[1;32m      3\u001b[0m cursor \u001b[39m=\u001b[39m conn\u001b[39m.\u001b[39mcursor()\n\u001b[0;32m----> 4\u001b[0m cursor\u001b[39m.\u001b[39;49mexecute(\u001b[39m\"\u001b[39;49m\u001b[39mSELECT * FROM trains WHERE trains.\u001b[39;49m\u001b[39m\\\"\u001b[39;49;00m\u001b[39m(\u001b[39;49m\u001b[39m'\u001b[39;49m\u001b[39mName\u001b[39;49m\u001b[39m'\u001b[39;49m\u001b[39m, \u001b[39;49m\u001b[39m'\u001b[39;49m\u001b[39mName\u001b[39;49m\u001b[39m'\u001b[39;49m\u001b[39m)\u001b[39;49m\u001b[39m\\\"\u001b[39;49;00m\u001b[39m = \u001b[39;49m\u001b[39m%s\u001b[39;49;00m\u001b[39m;\u001b[39;49m\u001b[39m\"\u001b[39;49m \u001b[39m%\u001b[39;49m (name) )\n\u001b[1;32m      5\u001b[0m row \u001b[39m=\u001b[39m cursor\u001b[39m.\u001b[39mfetchall()\n\u001b[1;32m      6\u001b[0m train_name \u001b[39m=\u001b[39m row[\u001b[39m1\u001b[39m]\n",
      "\u001b[0;31mUndefinedColumn\u001b[0m: column \"hello\" does not exist\nLINE 1: ...ELECT * FROM trains WHERE trains.\"('Name', 'Name')\" = HELLO;\n                                                                 ^\n"
     ]
    }
   ],
   "source": [
    "name = \"HELLO\"\n",
    "conn = get_db_connection()\n",
    "cursor = conn.cursor()\n",
    "cursor.execute(\"SELECT * FROM trains WHERE trains.\\\"('Name', 'Name')\\\" = %s;\" % (name) )\n",
    "row = cursor.fetchall()\n",
    "train_name = row[1]\n",
    "cursor.close()\n",
    "conn.close()"
   ]
  },
  {
   "cell_type": "code",
   "execution_count": null,
   "metadata": {},
   "outputs": [],
   "source": []
  },
  {
   "cell_type": "code",
   "execution_count": null,
   "metadata": {},
   "outputs": [],
   "source": []
  }
 ],
 "metadata": {
  "kernelspec": {
   "display_name": "mytrainlist",
   "language": "python",
   "name": "python3"
  },
  "language_info": {
   "codemirror_mode": {
    "name": "ipython",
    "version": 3
   },
   "file_extension": ".py",
   "mimetype": "text/x-python",
   "name": "python",
   "nbconvert_exporter": "python",
   "pygments_lexer": "ipython3",
   "version": "3.9.16"
  },
  "orig_nbformat": 4,
  "polyglot_notebook": {
   "kernelInfo": {
    "defaultKernelName": "csharp",
    "items": [
     {
      "aliases": [],
      "name": "csharp"
     }
    ]
   }
  }
 },
 "nbformat": 4,
 "nbformat_minor": 2
}
