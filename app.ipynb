{
 "cells": [
  {
   "cell_type": "code",
   "execution_count": 42,
   "metadata": {
    "dotnet_interactive": {
     "language": "csharp"
    },
    "polyglot_notebook": {
     "kernelName": "csharp"
    }
   },
   "outputs": [
    {
     "name": "stdout",
     "output_type": "stream",
     "text": [
      " * Serving Flask app '__main__'\n",
      " * Debug mode: off\n"
     ]
    },
    {
     "name": "stderr",
     "output_type": "stream",
     "text": [
      "\u001b[31m\u001b[1mWARNING: This is a development server. Do not use it in a production deployment. Use a production WSGI server instead.\u001b[0m\n",
      " * Running on http://127.0.0.1:5000\n",
      "\u001b[33mPress CTRL+C to quit\u001b[0m\n",
      "127.0.0.1 - - [20/May/2023 13:46:59] \"GET / HTTP/1.1\" 200 -\n",
      "127.0.0.1 - - [20/May/2023 13:47:04] \"GET /signup HTTP/1.1\" 200 -\n",
      "127.0.0.1 - - [20/May/2023 13:47:10] \"POST /signup HTTP/1.1\" 200 -\n"
     ]
    }
   ],
   "source": [
    "from flask import Flask, render_template, request\n",
    "import psycopg2\n",
    "\n",
    "app = Flask(__name__)\n",
    "\n",
    "# Configure the database connection\n",
    "def get_db_connection():\n",
    "    connection = psycopg2.connect(\n",
    "        port=5432,\n",
    "        host=\"localhost\",\n",
    "        database=\"postgres\",\n",
    "        user=\"postgres\",\n",
    "        password=\"2903\"\n",
    "    )\n",
    "    return connection\n",
    "    \n",
    "# Example route to fetch data from the database\n",
    "@app.route('/')\n",
    "def index():\n",
    "    connection = get_db_connection()\n",
    "    cursor = connection.cursor()\n",
    "    \n",
    "    # Execute a query\n",
    "    cursor.execute('SELECT * FROM trains')\n",
    "    \n",
    "    # Fetch the results\n",
    "    results = cursor.fetchall()\n",
    "    \n",
    "    # Close the cursor and connection\n",
    "    cursor.close()\n",
    "    connection.close()\n",
    "    \n",
    "    # Process the results and return the response\n",
    "    response = ''\n",
    "    for row in results:\n",
    "        response += f'Train ID: {row[0]}, Train Name: {row[1]}<br>'\n",
    "    \n",
    "    return response\n",
    "\n",
    "@app.route('/table')\n",
    "def render_table():\n",
    "    # Establish a connection to the PostgreSQL database\n",
    "    conn = get_db_connection()\n",
    "    cursor = conn.cursor()\n",
    "\n",
    "    # Execute a query to retrieve data from the table\n",
    "    cursor.execute('SELECT * FROM trains')\n",
    "\n",
    "    # Fetch all rows from the result set\n",
    "    rows = cursor.fetchall()\n",
    "\n",
    "    # Close the cursor and connection\n",
    "    cursor.close()\n",
    "    conn.close()\n",
    "\n",
    "    # Render the HTML template with the table data\n",
    "    return render_template('table.html', rows=rows)\n",
    "\n",
    "@app.route('/signup', methods=[\"GET\", \"POST\"])\n",
    "def signup():\n",
    "    if request.method == \"POST\":\n",
    "        # Establish a connection to the PostgreSQL database\n",
    "        conn = get_db_connection()\n",
    "        cursor = conn.cursor()\n",
    "\n",
    "        # Get max uid and add 1 to get new id for user\n",
    "        cursor.execute(\"SELECT MAX(id) FROM users;\")\n",
    "        uid = cursor.fetchall()[0][0] + 1\n",
    "        # Get other input \n",
    "        name = request.form.get(\"fname\")\n",
    "        mail = request.form.get(\"femail\")\n",
    "        password = request.form.get(\"fpassword\")\n",
    "        query = \"INSERT INTO users (id, name, mail, password) VALUES (%s, %s, %s, %s);\"\n",
    "        cursor.execute(query, (uid, name, mail, password))\n",
    "        conn.commit()\n",
    "        cursor.close()\n",
    "        conn.close()\n",
    "    return render_template('signup.html')\n",
    "\n",
    "\n",
    "if __name__ == '__main__':\n",
    "    app.run()\n"
   ]
  }
 ],
 "metadata": {
  "kernelspec": {
   "display_name": "mytrainlist",
   "language": "python",
   "name": "python3"
  },
  "language_info": {
   "codemirror_mode": {
    "name": "ipython",
    "version": 3
   },
   "file_extension": ".py",
   "mimetype": "text/x-python",
   "name": "python",
   "nbconvert_exporter": "python",
   "pygments_lexer": "ipython3",
   "version": "3.9.16"
  },
  "orig_nbformat": 4,
  "polyglot_notebook": {
   "kernelInfo": {
    "defaultKernelName": "csharp",
    "items": [
     {
      "aliases": [],
      "name": "csharp"
     }
    ]
   }
  }
 },
 "nbformat": 4,
 "nbformat_minor": 2
}
